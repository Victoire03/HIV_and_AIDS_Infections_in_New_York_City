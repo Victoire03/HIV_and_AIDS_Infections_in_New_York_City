{
 "cells": [
  {
   "cell_type": "markdown",
   "id": "7a586c91",
   "metadata": {},
   "source": [
    "# Vizualizing Data\n",
    "\n",
    "We are now exploring further, through visualization our clean Age and Gender data to see whether there are some interesting insight that will be beneficial to the health sector to prevent further cases of HIV/AIDS and at the same time finding better means to assist those that are already affected. The approach is to use descriptive Stats, identify trends and do some group comparisons."
   ]
  },
  {
   "cell_type": "code",
   "execution_count": 2,
   "id": "c59efdc5",
   "metadata": {},
   "outputs": [],
   "source": [
    "#Importing needed libraries\n",
    "import pandas as pd\n",
    "from matplotlib import pyplot as plt\n",
    "from pathlib import Path"
   ]
  },
  {
   "cell_type": "markdown",
   "id": "076fada2",
   "metadata": {},
   "source": [
    "Lets start by finding the total cases by race, age group, sex, and neighborhood"
   ]
  },
  {
   "cell_type": "code",
   "execution_count": null,
   "id": "73db2f50",
   "metadata": {},
   "outputs": [],
   "source": []
  },
  {
   "cell_type": "markdown",
   "id": "69c257f9",
   "metadata": {},
   "source": [
    "Now looking at the trend in diagnoses. How has this changed over time for each group?"
   ]
  },
  {
   "cell_type": "code",
   "execution_count": null,
   "id": "fdd5fd4e",
   "metadata": {},
   "outputs": [],
   "source": []
  },
  {
   "cell_type": "markdown",
   "id": "b5a172c3",
   "metadata": {},
   "source": [
    "Finally lets do some comparisons to find out which race has the highest infection rate in each neighborhood. Are there gender disparities across neighborhoods? Who are the most affected; young or old age group?"
   ]
  },
  {
   "cell_type": "code",
   "execution_count": null,
   "id": "0ca00981",
   "metadata": {},
   "outputs": [],
   "source": []
  }
 ],
 "metadata": {
  "kernelspec": {
   "display_name": "venv",
   "language": "python",
   "name": "python3"
  },
  "language_info": {
   "codemirror_mode": {
    "name": "ipython",
    "version": 3
   },
   "file_extension": ".py",
   "mimetype": "text/x-python",
   "name": "python",
   "nbconvert_exporter": "python",
   "pygments_lexer": "ipython3",
   "version": "3.13.2"
  }
 },
 "nbformat": 4,
 "nbformat_minor": 5
}
