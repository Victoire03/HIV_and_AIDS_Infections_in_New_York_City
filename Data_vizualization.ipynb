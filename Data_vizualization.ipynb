{
 "cells": [
  {
   "cell_type": "markdown",
   "id": "7a586c91",
   "metadata": {},
   "source": [
    "# Vizualizing Data"
   ]
  },
  {
   "cell_type": "markdown",
   "id": "076fada2",
   "metadata": {},
   "source": [
    "Now moving into data exploration; Where I will look into data descriptive Stats, identify trends and do some group comparisons.\n",
    "\n",
    "Lets start by finding the total cases by race, age group, sex, and neighborhood"
   ]
  },
  {
   "cell_type": "code",
   "execution_count": null,
   "id": "73db2f50",
   "metadata": {
    "vscode": {
     "languageId": "plaintext"
    }
   },
   "outputs": [],
   "source": []
  },
  {
   "cell_type": "markdown",
   "id": "69c257f9",
   "metadata": {},
   "source": [
    "Now looking at the trend in diagnoses. How has this changed over time for each group?"
   ]
  },
  {
   "cell_type": "code",
   "execution_count": null,
   "id": "fdd5fd4e",
   "metadata": {
    "vscode": {
     "languageId": "plaintext"
    }
   },
   "outputs": [],
   "source": []
  },
  {
   "cell_type": "markdown",
   "id": "b5a172c3",
   "metadata": {},
   "source": [
    "Finally lets do some comparisons to find out which race has the highest infection rate in each neighborhood. Are there gender disparities across neighborhoods? Who are the most affected; young or old age group?"
   ]
  },
  {
   "cell_type": "code",
   "execution_count": null,
   "id": "0ca00981",
   "metadata": {
    "vscode": {
     "languageId": "plaintext"
    }
   },
   "outputs": [],
   "source": []
  }
 ],
 "metadata": {
  "language_info": {
   "name": "python"
  }
 },
 "nbformat": 4,
 "nbformat_minor": 5
}
